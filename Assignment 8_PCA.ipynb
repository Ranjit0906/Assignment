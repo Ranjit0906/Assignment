{
 "cells": [
  {
   "cell_type": "markdown",
   "id": "378eebac",
   "metadata": {},
   "source": [
    "## Import Libraries"
   ]
  },
  {
   "cell_type": "code",
   "execution_count": 1,
   "id": "6f647522",
   "metadata": {},
   "outputs": [],
   "source": [
    "import pandas as pd\n",
    "import numpy as np\n",
    "import matplotlib.pyplot as plt\n",
    "import seaborn as sns\n",
    "from sklearn.decomposition import PCA\n",
    "from sklearn.preprocessing import scale"
   ]
  },
  {
   "cell_type": "markdown",
   "id": "e53ee7e7",
   "metadata": {},
   "source": [
    "## Import Dataset"
   ]
  },
  {
   "cell_type": "code",
   "execution_count": 2,
   "id": "c634d4f8",
   "metadata": {},
   "outputs": [],
   "source": [
    "wine=pd.read_csv(\"C:\\Assignment_Excelr\\Assignment 8_PCA\\wine.csv\")"
   ]
  },
  {
   "cell_type": "code",
   "execution_count": 3,
   "id": "12e96bd9",
   "metadata": {},
   "outputs": [
    {
     "data": {
      "text/html": [
       "<div>\n",
       "<style scoped>\n",
       "    .dataframe tbody tr th:only-of-type {\n",
       "        vertical-align: middle;\n",
       "    }\n",
       "\n",
       "    .dataframe tbody tr th {\n",
       "        vertical-align: top;\n",
       "    }\n",
       "\n",
       "    .dataframe thead th {\n",
       "        text-align: right;\n",
       "    }\n",
       "</style>\n",
       "<table border=\"1\" class=\"dataframe\">\n",
       "  <thead>\n",
       "    <tr style=\"text-align: right;\">\n",
       "      <th></th>\n",
       "      <th>Type</th>\n",
       "      <th>Alcohol</th>\n",
       "      <th>Malic</th>\n",
       "      <th>Ash</th>\n",
       "      <th>Alcalinity</th>\n",
       "      <th>Magnesium</th>\n",
       "      <th>Phenols</th>\n",
       "      <th>Flavanoids</th>\n",
       "      <th>Nonflavanoids</th>\n",
       "      <th>Proanthocyanins</th>\n",
       "      <th>Color</th>\n",
       "      <th>Hue</th>\n",
       "      <th>Dilution</th>\n",
       "      <th>Proline</th>\n",
       "    </tr>\n",
       "  </thead>\n",
       "  <tbody>\n",
       "    <tr>\n",
       "      <th>0</th>\n",
       "      <td>1</td>\n",
       "      <td>14.23</td>\n",
       "      <td>1.71</td>\n",
       "      <td>2.43</td>\n",
       "      <td>15.6</td>\n",
       "      <td>127</td>\n",
       "      <td>2.80</td>\n",
       "      <td>3.06</td>\n",
       "      <td>0.28</td>\n",
       "      <td>2.29</td>\n",
       "      <td>5.64</td>\n",
       "      <td>1.04</td>\n",
       "      <td>3.92</td>\n",
       "      <td>1065</td>\n",
       "    </tr>\n",
       "    <tr>\n",
       "      <th>1</th>\n",
       "      <td>1</td>\n",
       "      <td>13.20</td>\n",
       "      <td>1.78</td>\n",
       "      <td>2.14</td>\n",
       "      <td>11.2</td>\n",
       "      <td>100</td>\n",
       "      <td>2.65</td>\n",
       "      <td>2.76</td>\n",
       "      <td>0.26</td>\n",
       "      <td>1.28</td>\n",
       "      <td>4.38</td>\n",
       "      <td>1.05</td>\n",
       "      <td>3.40</td>\n",
       "      <td>1050</td>\n",
       "    </tr>\n",
       "    <tr>\n",
       "      <th>2</th>\n",
       "      <td>1</td>\n",
       "      <td>13.16</td>\n",
       "      <td>2.36</td>\n",
       "      <td>2.67</td>\n",
       "      <td>18.6</td>\n",
       "      <td>101</td>\n",
       "      <td>2.80</td>\n",
       "      <td>3.24</td>\n",
       "      <td>0.30</td>\n",
       "      <td>2.81</td>\n",
       "      <td>5.68</td>\n",
       "      <td>1.03</td>\n",
       "      <td>3.17</td>\n",
       "      <td>1185</td>\n",
       "    </tr>\n",
       "    <tr>\n",
       "      <th>3</th>\n",
       "      <td>1</td>\n",
       "      <td>14.37</td>\n",
       "      <td>1.95</td>\n",
       "      <td>2.50</td>\n",
       "      <td>16.8</td>\n",
       "      <td>113</td>\n",
       "      <td>3.85</td>\n",
       "      <td>3.49</td>\n",
       "      <td>0.24</td>\n",
       "      <td>2.18</td>\n",
       "      <td>7.80</td>\n",
       "      <td>0.86</td>\n",
       "      <td>3.45</td>\n",
       "      <td>1480</td>\n",
       "    </tr>\n",
       "    <tr>\n",
       "      <th>4</th>\n",
       "      <td>1</td>\n",
       "      <td>13.24</td>\n",
       "      <td>2.59</td>\n",
       "      <td>2.87</td>\n",
       "      <td>21.0</td>\n",
       "      <td>118</td>\n",
       "      <td>2.80</td>\n",
       "      <td>2.69</td>\n",
       "      <td>0.39</td>\n",
       "      <td>1.82</td>\n",
       "      <td>4.32</td>\n",
       "      <td>1.04</td>\n",
       "      <td>2.93</td>\n",
       "      <td>735</td>\n",
       "    </tr>\n",
       "    <tr>\n",
       "      <th>...</th>\n",
       "      <td>...</td>\n",
       "      <td>...</td>\n",
       "      <td>...</td>\n",
       "      <td>...</td>\n",
       "      <td>...</td>\n",
       "      <td>...</td>\n",
       "      <td>...</td>\n",
       "      <td>...</td>\n",
       "      <td>...</td>\n",
       "      <td>...</td>\n",
       "      <td>...</td>\n",
       "      <td>...</td>\n",
       "      <td>...</td>\n",
       "      <td>...</td>\n",
       "    </tr>\n",
       "    <tr>\n",
       "      <th>173</th>\n",
       "      <td>3</td>\n",
       "      <td>13.71</td>\n",
       "      <td>5.65</td>\n",
       "      <td>2.45</td>\n",
       "      <td>20.5</td>\n",
       "      <td>95</td>\n",
       "      <td>1.68</td>\n",
       "      <td>0.61</td>\n",
       "      <td>0.52</td>\n",
       "      <td>1.06</td>\n",
       "      <td>7.70</td>\n",
       "      <td>0.64</td>\n",
       "      <td>1.74</td>\n",
       "      <td>740</td>\n",
       "    </tr>\n",
       "    <tr>\n",
       "      <th>174</th>\n",
       "      <td>3</td>\n",
       "      <td>13.40</td>\n",
       "      <td>3.91</td>\n",
       "      <td>2.48</td>\n",
       "      <td>23.0</td>\n",
       "      <td>102</td>\n",
       "      <td>1.80</td>\n",
       "      <td>0.75</td>\n",
       "      <td>0.43</td>\n",
       "      <td>1.41</td>\n",
       "      <td>7.30</td>\n",
       "      <td>0.70</td>\n",
       "      <td>1.56</td>\n",
       "      <td>750</td>\n",
       "    </tr>\n",
       "    <tr>\n",
       "      <th>175</th>\n",
       "      <td>3</td>\n",
       "      <td>13.27</td>\n",
       "      <td>4.28</td>\n",
       "      <td>2.26</td>\n",
       "      <td>20.0</td>\n",
       "      <td>120</td>\n",
       "      <td>1.59</td>\n",
       "      <td>0.69</td>\n",
       "      <td>0.43</td>\n",
       "      <td>1.35</td>\n",
       "      <td>10.20</td>\n",
       "      <td>0.59</td>\n",
       "      <td>1.56</td>\n",
       "      <td>835</td>\n",
       "    </tr>\n",
       "    <tr>\n",
       "      <th>176</th>\n",
       "      <td>3</td>\n",
       "      <td>13.17</td>\n",
       "      <td>2.59</td>\n",
       "      <td>2.37</td>\n",
       "      <td>20.0</td>\n",
       "      <td>120</td>\n",
       "      <td>1.65</td>\n",
       "      <td>0.68</td>\n",
       "      <td>0.53</td>\n",
       "      <td>1.46</td>\n",
       "      <td>9.30</td>\n",
       "      <td>0.60</td>\n",
       "      <td>1.62</td>\n",
       "      <td>840</td>\n",
       "    </tr>\n",
       "    <tr>\n",
       "      <th>177</th>\n",
       "      <td>3</td>\n",
       "      <td>14.13</td>\n",
       "      <td>4.10</td>\n",
       "      <td>2.74</td>\n",
       "      <td>24.5</td>\n",
       "      <td>96</td>\n",
       "      <td>2.05</td>\n",
       "      <td>0.76</td>\n",
       "      <td>0.56</td>\n",
       "      <td>1.35</td>\n",
       "      <td>9.20</td>\n",
       "      <td>0.61</td>\n",
       "      <td>1.60</td>\n",
       "      <td>560</td>\n",
       "    </tr>\n",
       "  </tbody>\n",
       "</table>\n",
       "<p>178 rows × 14 columns</p>\n",
       "</div>"
      ],
      "text/plain": [
       "     Type  Alcohol  Malic   Ash  Alcalinity  Magnesium  Phenols  Flavanoids  \\\n",
       "0       1    14.23   1.71  2.43        15.6        127     2.80        3.06   \n",
       "1       1    13.20   1.78  2.14        11.2        100     2.65        2.76   \n",
       "2       1    13.16   2.36  2.67        18.6        101     2.80        3.24   \n",
       "3       1    14.37   1.95  2.50        16.8        113     3.85        3.49   \n",
       "4       1    13.24   2.59  2.87        21.0        118     2.80        2.69   \n",
       "..    ...      ...    ...   ...         ...        ...      ...         ...   \n",
       "173     3    13.71   5.65  2.45        20.5         95     1.68        0.61   \n",
       "174     3    13.40   3.91  2.48        23.0        102     1.80        0.75   \n",
       "175     3    13.27   4.28  2.26        20.0        120     1.59        0.69   \n",
       "176     3    13.17   2.59  2.37        20.0        120     1.65        0.68   \n",
       "177     3    14.13   4.10  2.74        24.5         96     2.05        0.76   \n",
       "\n",
       "     Nonflavanoids  Proanthocyanins  Color   Hue  Dilution  Proline  \n",
       "0             0.28             2.29   5.64  1.04      3.92     1065  \n",
       "1             0.26             1.28   4.38  1.05      3.40     1050  \n",
       "2             0.30             2.81   5.68  1.03      3.17     1185  \n",
       "3             0.24             2.18   7.80  0.86      3.45     1480  \n",
       "4             0.39             1.82   4.32  1.04      2.93      735  \n",
       "..             ...              ...    ...   ...       ...      ...  \n",
       "173           0.52             1.06   7.70  0.64      1.74      740  \n",
       "174           0.43             1.41   7.30  0.70      1.56      750  \n",
       "175           0.43             1.35  10.20  0.59      1.56      835  \n",
       "176           0.53             1.46   9.30  0.60      1.62      840  \n",
       "177           0.56             1.35   9.20  0.61      1.60      560  \n",
       "\n",
       "[178 rows x 14 columns]"
      ]
     },
     "execution_count": 3,
     "metadata": {},
     "output_type": "execute_result"
    }
   ],
   "source": [
    "wine"
   ]
  },
  {
   "cell_type": "code",
   "execution_count": 4,
   "id": "63752853",
   "metadata": {},
   "outputs": [
    {
     "data": {
      "text/plain": [
       "2    71\n",
       "1    59\n",
       "3    48\n",
       "Name: Type, dtype: int64"
      ]
     },
     "execution_count": 4,
     "metadata": {},
     "output_type": "execute_result"
    }
   ],
   "source": [
    "wine['Type'].value_counts()"
   ]
  },
  {
   "cell_type": "code",
   "execution_count": 5,
   "id": "1571dbc5",
   "metadata": {},
   "outputs": [
    {
     "data": {
      "text/html": [
       "<div>\n",
       "<style scoped>\n",
       "    .dataframe tbody tr th:only-of-type {\n",
       "        vertical-align: middle;\n",
       "    }\n",
       "\n",
       "    .dataframe tbody tr th {\n",
       "        vertical-align: top;\n",
       "    }\n",
       "\n",
       "    .dataframe thead th {\n",
       "        text-align: right;\n",
       "    }\n",
       "</style>\n",
       "<table border=\"1\" class=\"dataframe\">\n",
       "  <thead>\n",
       "    <tr style=\"text-align: right;\">\n",
       "      <th></th>\n",
       "      <th>Alcohol</th>\n",
       "      <th>Malic</th>\n",
       "      <th>Ash</th>\n",
       "      <th>Alcalinity</th>\n",
       "      <th>Magnesium</th>\n",
       "      <th>Phenols</th>\n",
       "      <th>Flavanoids</th>\n",
       "      <th>Nonflavanoids</th>\n",
       "      <th>Proanthocyanins</th>\n",
       "      <th>Color</th>\n",
       "      <th>Hue</th>\n",
       "      <th>Dilution</th>\n",
       "      <th>Proline</th>\n",
       "    </tr>\n",
       "  </thead>\n",
       "  <tbody>\n",
       "    <tr>\n",
       "      <th>0</th>\n",
       "      <td>14.23</td>\n",
       "      <td>1.71</td>\n",
       "      <td>2.43</td>\n",
       "      <td>15.6</td>\n",
       "      <td>127</td>\n",
       "      <td>2.80</td>\n",
       "      <td>3.06</td>\n",
       "      <td>0.28</td>\n",
       "      <td>2.29</td>\n",
       "      <td>5.64</td>\n",
       "      <td>1.04</td>\n",
       "      <td>3.92</td>\n",
       "      <td>1065</td>\n",
       "    </tr>\n",
       "    <tr>\n",
       "      <th>1</th>\n",
       "      <td>13.20</td>\n",
       "      <td>1.78</td>\n",
       "      <td>2.14</td>\n",
       "      <td>11.2</td>\n",
       "      <td>100</td>\n",
       "      <td>2.65</td>\n",
       "      <td>2.76</td>\n",
       "      <td>0.26</td>\n",
       "      <td>1.28</td>\n",
       "      <td>4.38</td>\n",
       "      <td>1.05</td>\n",
       "      <td>3.40</td>\n",
       "      <td>1050</td>\n",
       "    </tr>\n",
       "    <tr>\n",
       "      <th>2</th>\n",
       "      <td>13.16</td>\n",
       "      <td>2.36</td>\n",
       "      <td>2.67</td>\n",
       "      <td>18.6</td>\n",
       "      <td>101</td>\n",
       "      <td>2.80</td>\n",
       "      <td>3.24</td>\n",
       "      <td>0.30</td>\n",
       "      <td>2.81</td>\n",
       "      <td>5.68</td>\n",
       "      <td>1.03</td>\n",
       "      <td>3.17</td>\n",
       "      <td>1185</td>\n",
       "    </tr>\n",
       "    <tr>\n",
       "      <th>3</th>\n",
       "      <td>14.37</td>\n",
       "      <td>1.95</td>\n",
       "      <td>2.50</td>\n",
       "      <td>16.8</td>\n",
       "      <td>113</td>\n",
       "      <td>3.85</td>\n",
       "      <td>3.49</td>\n",
       "      <td>0.24</td>\n",
       "      <td>2.18</td>\n",
       "      <td>7.80</td>\n",
       "      <td>0.86</td>\n",
       "      <td>3.45</td>\n",
       "      <td>1480</td>\n",
       "    </tr>\n",
       "    <tr>\n",
       "      <th>4</th>\n",
       "      <td>13.24</td>\n",
       "      <td>2.59</td>\n",
       "      <td>2.87</td>\n",
       "      <td>21.0</td>\n",
       "      <td>118</td>\n",
       "      <td>2.80</td>\n",
       "      <td>2.69</td>\n",
       "      <td>0.39</td>\n",
       "      <td>1.82</td>\n",
       "      <td>4.32</td>\n",
       "      <td>1.04</td>\n",
       "      <td>2.93</td>\n",
       "      <td>735</td>\n",
       "    </tr>\n",
       "    <tr>\n",
       "      <th>...</th>\n",
       "      <td>...</td>\n",
       "      <td>...</td>\n",
       "      <td>...</td>\n",
       "      <td>...</td>\n",
       "      <td>...</td>\n",
       "      <td>...</td>\n",
       "      <td>...</td>\n",
       "      <td>...</td>\n",
       "      <td>...</td>\n",
       "      <td>...</td>\n",
       "      <td>...</td>\n",
       "      <td>...</td>\n",
       "      <td>...</td>\n",
       "    </tr>\n",
       "    <tr>\n",
       "      <th>173</th>\n",
       "      <td>13.71</td>\n",
       "      <td>5.65</td>\n",
       "      <td>2.45</td>\n",
       "      <td>20.5</td>\n",
       "      <td>95</td>\n",
       "      <td>1.68</td>\n",
       "      <td>0.61</td>\n",
       "      <td>0.52</td>\n",
       "      <td>1.06</td>\n",
       "      <td>7.70</td>\n",
       "      <td>0.64</td>\n",
       "      <td>1.74</td>\n",
       "      <td>740</td>\n",
       "    </tr>\n",
       "    <tr>\n",
       "      <th>174</th>\n",
       "      <td>13.40</td>\n",
       "      <td>3.91</td>\n",
       "      <td>2.48</td>\n",
       "      <td>23.0</td>\n",
       "      <td>102</td>\n",
       "      <td>1.80</td>\n",
       "      <td>0.75</td>\n",
       "      <td>0.43</td>\n",
       "      <td>1.41</td>\n",
       "      <td>7.30</td>\n",
       "      <td>0.70</td>\n",
       "      <td>1.56</td>\n",
       "      <td>750</td>\n",
       "    </tr>\n",
       "    <tr>\n",
       "      <th>175</th>\n",
       "      <td>13.27</td>\n",
       "      <td>4.28</td>\n",
       "      <td>2.26</td>\n",
       "      <td>20.0</td>\n",
       "      <td>120</td>\n",
       "      <td>1.59</td>\n",
       "      <td>0.69</td>\n",
       "      <td>0.43</td>\n",
       "      <td>1.35</td>\n",
       "      <td>10.20</td>\n",
       "      <td>0.59</td>\n",
       "      <td>1.56</td>\n",
       "      <td>835</td>\n",
       "    </tr>\n",
       "    <tr>\n",
       "      <th>176</th>\n",
       "      <td>13.17</td>\n",
       "      <td>2.59</td>\n",
       "      <td>2.37</td>\n",
       "      <td>20.0</td>\n",
       "      <td>120</td>\n",
       "      <td>1.65</td>\n",
       "      <td>0.68</td>\n",
       "      <td>0.53</td>\n",
       "      <td>1.46</td>\n",
       "      <td>9.30</td>\n",
       "      <td>0.60</td>\n",
       "      <td>1.62</td>\n",
       "      <td>840</td>\n",
       "    </tr>\n",
       "    <tr>\n",
       "      <th>177</th>\n",
       "      <td>14.13</td>\n",
       "      <td>4.10</td>\n",
       "      <td>2.74</td>\n",
       "      <td>24.5</td>\n",
       "      <td>96</td>\n",
       "      <td>2.05</td>\n",
       "      <td>0.76</td>\n",
       "      <td>0.56</td>\n",
       "      <td>1.35</td>\n",
       "      <td>9.20</td>\n",
       "      <td>0.61</td>\n",
       "      <td>1.60</td>\n",
       "      <td>560</td>\n",
       "    </tr>\n",
       "  </tbody>\n",
       "</table>\n",
       "<p>178 rows × 13 columns</p>\n",
       "</div>"
      ],
      "text/plain": [
       "     Alcohol  Malic   Ash  Alcalinity  Magnesium  Phenols  Flavanoids  \\\n",
       "0      14.23   1.71  2.43        15.6        127     2.80        3.06   \n",
       "1      13.20   1.78  2.14        11.2        100     2.65        2.76   \n",
       "2      13.16   2.36  2.67        18.6        101     2.80        3.24   \n",
       "3      14.37   1.95  2.50        16.8        113     3.85        3.49   \n",
       "4      13.24   2.59  2.87        21.0        118     2.80        2.69   \n",
       "..       ...    ...   ...         ...        ...      ...         ...   \n",
       "173    13.71   5.65  2.45        20.5         95     1.68        0.61   \n",
       "174    13.40   3.91  2.48        23.0        102     1.80        0.75   \n",
       "175    13.27   4.28  2.26        20.0        120     1.59        0.69   \n",
       "176    13.17   2.59  2.37        20.0        120     1.65        0.68   \n",
       "177    14.13   4.10  2.74        24.5         96     2.05        0.76   \n",
       "\n",
       "     Nonflavanoids  Proanthocyanins  Color   Hue  Dilution  Proline  \n",
       "0             0.28             2.29   5.64  1.04      3.92     1065  \n",
       "1             0.26             1.28   4.38  1.05      3.40     1050  \n",
       "2             0.30             2.81   5.68  1.03      3.17     1185  \n",
       "3             0.24             2.18   7.80  0.86      3.45     1480  \n",
       "4             0.39             1.82   4.32  1.04      2.93      735  \n",
       "..             ...              ...    ...   ...       ...      ...  \n",
       "173           0.52             1.06   7.70  0.64      1.74      740  \n",
       "174           0.43             1.41   7.30  0.70      1.56      750  \n",
       "175           0.43             1.35  10.20  0.59      1.56      835  \n",
       "176           0.53             1.46   9.30  0.60      1.62      840  \n",
       "177           0.56             1.35   9.20  0.61      1.60      560  \n",
       "\n",
       "[178 rows x 13 columns]"
      ]
     },
     "execution_count": 5,
     "metadata": {},
     "output_type": "execute_result"
    }
   ],
   "source": [
    "wine2=wine.iloc[:,1:]\n",
    "wine2"
   ]
  },
  {
   "cell_type": "code",
   "execution_count": 6,
   "id": "46080bb1",
   "metadata": {},
   "outputs": [
    {
     "data": {
      "text/plain": [
       "(178, 13)"
      ]
     },
     "execution_count": 6,
     "metadata": {},
     "output_type": "execute_result"
    }
   ],
   "source": [
    "wine2.shape"
   ]
  },
  {
   "cell_type": "code",
   "execution_count": 7,
   "id": "e29393e5",
   "metadata": {},
   "outputs": [
    {
     "data": {
      "text/plain": [
       "2314"
      ]
     },
     "execution_count": 7,
     "metadata": {},
     "output_type": "execute_result"
    }
   ],
   "source": [
    "wine2.size"
   ]
  },
  {
   "cell_type": "code",
   "execution_count": 8,
   "id": "b4b31860",
   "metadata": {},
   "outputs": [
    {
     "name": "stdout",
     "output_type": "stream",
     "text": [
      "<class 'pandas.core.frame.DataFrame'>\n",
      "RangeIndex: 178 entries, 0 to 177\n",
      "Data columns (total 13 columns):\n",
      " #   Column           Non-Null Count  Dtype  \n",
      "---  ------           --------------  -----  \n",
      " 0   Alcohol          178 non-null    float64\n",
      " 1   Malic            178 non-null    float64\n",
      " 2   Ash              178 non-null    float64\n",
      " 3   Alcalinity       178 non-null    float64\n",
      " 4   Magnesium        178 non-null    int64  \n",
      " 5   Phenols          178 non-null    float64\n",
      " 6   Flavanoids       178 non-null    float64\n",
      " 7   Nonflavanoids    178 non-null    float64\n",
      " 8   Proanthocyanins  178 non-null    float64\n",
      " 9   Color            178 non-null    float64\n",
      " 10  Hue              178 non-null    float64\n",
      " 11  Dilution         178 non-null    float64\n",
      " 12  Proline          178 non-null    int64  \n",
      "dtypes: float64(11), int64(2)\n",
      "memory usage: 18.2 KB\n"
     ]
    }
   ],
   "source": [
    "wine2.info()"
   ]
  },
  {
   "cell_type": "markdown",
   "id": "b7f6ede4",
   "metadata": {},
   "source": [
    "#### It seems their are no null values in our data"
   ]
  },
  {
   "cell_type": "code",
   "execution_count": 9,
   "id": "f6e119a8",
   "metadata": {},
   "outputs": [
    {
     "data": {
      "text/html": [
       "<div>\n",
       "<style scoped>\n",
       "    .dataframe tbody tr th:only-of-type {\n",
       "        vertical-align: middle;\n",
       "    }\n",
       "\n",
       "    .dataframe tbody tr th {\n",
       "        vertical-align: top;\n",
       "    }\n",
       "\n",
       "    .dataframe thead th {\n",
       "        text-align: right;\n",
       "    }\n",
       "</style>\n",
       "<table border=\"1\" class=\"dataframe\">\n",
       "  <thead>\n",
       "    <tr style=\"text-align: right;\">\n",
       "      <th></th>\n",
       "      <th>Alcohol</th>\n",
       "      <th>Malic</th>\n",
       "      <th>Ash</th>\n",
       "      <th>Alcalinity</th>\n",
       "      <th>Magnesium</th>\n",
       "      <th>Phenols</th>\n",
       "      <th>Flavanoids</th>\n",
       "      <th>Nonflavanoids</th>\n",
       "      <th>Proanthocyanins</th>\n",
       "      <th>Color</th>\n",
       "      <th>Hue</th>\n",
       "      <th>Dilution</th>\n",
       "      <th>Proline</th>\n",
       "    </tr>\n",
       "  </thead>\n",
       "  <tbody>\n",
       "    <tr>\n",
       "      <th>count</th>\n",
       "      <td>178.000000</td>\n",
       "      <td>178.000000</td>\n",
       "      <td>178.000000</td>\n",
       "      <td>178.000000</td>\n",
       "      <td>178.000000</td>\n",
       "      <td>178.000000</td>\n",
       "      <td>178.000000</td>\n",
       "      <td>178.000000</td>\n",
       "      <td>178.000000</td>\n",
       "      <td>178.000000</td>\n",
       "      <td>178.000000</td>\n",
       "      <td>178.000000</td>\n",
       "      <td>178.000000</td>\n",
       "    </tr>\n",
       "    <tr>\n",
       "      <th>mean</th>\n",
       "      <td>13.000618</td>\n",
       "      <td>2.336348</td>\n",
       "      <td>2.366517</td>\n",
       "      <td>19.494944</td>\n",
       "      <td>99.741573</td>\n",
       "      <td>2.295112</td>\n",
       "      <td>2.029270</td>\n",
       "      <td>0.361854</td>\n",
       "      <td>1.590899</td>\n",
       "      <td>5.058090</td>\n",
       "      <td>0.957449</td>\n",
       "      <td>2.611685</td>\n",
       "      <td>746.893258</td>\n",
       "    </tr>\n",
       "    <tr>\n",
       "      <th>std</th>\n",
       "      <td>0.811827</td>\n",
       "      <td>1.117146</td>\n",
       "      <td>0.274344</td>\n",
       "      <td>3.339564</td>\n",
       "      <td>14.282484</td>\n",
       "      <td>0.625851</td>\n",
       "      <td>0.998859</td>\n",
       "      <td>0.124453</td>\n",
       "      <td>0.572359</td>\n",
       "      <td>2.318286</td>\n",
       "      <td>0.228572</td>\n",
       "      <td>0.709990</td>\n",
       "      <td>314.907474</td>\n",
       "    </tr>\n",
       "    <tr>\n",
       "      <th>min</th>\n",
       "      <td>11.030000</td>\n",
       "      <td>0.740000</td>\n",
       "      <td>1.360000</td>\n",
       "      <td>10.600000</td>\n",
       "      <td>70.000000</td>\n",
       "      <td>0.980000</td>\n",
       "      <td>0.340000</td>\n",
       "      <td>0.130000</td>\n",
       "      <td>0.410000</td>\n",
       "      <td>1.280000</td>\n",
       "      <td>0.480000</td>\n",
       "      <td>1.270000</td>\n",
       "      <td>278.000000</td>\n",
       "    </tr>\n",
       "    <tr>\n",
       "      <th>25%</th>\n",
       "      <td>12.362500</td>\n",
       "      <td>1.602500</td>\n",
       "      <td>2.210000</td>\n",
       "      <td>17.200000</td>\n",
       "      <td>88.000000</td>\n",
       "      <td>1.742500</td>\n",
       "      <td>1.205000</td>\n",
       "      <td>0.270000</td>\n",
       "      <td>1.250000</td>\n",
       "      <td>3.220000</td>\n",
       "      <td>0.782500</td>\n",
       "      <td>1.937500</td>\n",
       "      <td>500.500000</td>\n",
       "    </tr>\n",
       "    <tr>\n",
       "      <th>50%</th>\n",
       "      <td>13.050000</td>\n",
       "      <td>1.865000</td>\n",
       "      <td>2.360000</td>\n",
       "      <td>19.500000</td>\n",
       "      <td>98.000000</td>\n",
       "      <td>2.355000</td>\n",
       "      <td>2.135000</td>\n",
       "      <td>0.340000</td>\n",
       "      <td>1.555000</td>\n",
       "      <td>4.690000</td>\n",
       "      <td>0.965000</td>\n",
       "      <td>2.780000</td>\n",
       "      <td>673.500000</td>\n",
       "    </tr>\n",
       "    <tr>\n",
       "      <th>75%</th>\n",
       "      <td>13.677500</td>\n",
       "      <td>3.082500</td>\n",
       "      <td>2.557500</td>\n",
       "      <td>21.500000</td>\n",
       "      <td>107.000000</td>\n",
       "      <td>2.800000</td>\n",
       "      <td>2.875000</td>\n",
       "      <td>0.437500</td>\n",
       "      <td>1.950000</td>\n",
       "      <td>6.200000</td>\n",
       "      <td>1.120000</td>\n",
       "      <td>3.170000</td>\n",
       "      <td>985.000000</td>\n",
       "    </tr>\n",
       "    <tr>\n",
       "      <th>max</th>\n",
       "      <td>14.830000</td>\n",
       "      <td>5.800000</td>\n",
       "      <td>3.230000</td>\n",
       "      <td>30.000000</td>\n",
       "      <td>162.000000</td>\n",
       "      <td>3.880000</td>\n",
       "      <td>5.080000</td>\n",
       "      <td>0.660000</td>\n",
       "      <td>3.580000</td>\n",
       "      <td>13.000000</td>\n",
       "      <td>1.710000</td>\n",
       "      <td>4.000000</td>\n",
       "      <td>1680.000000</td>\n",
       "    </tr>\n",
       "  </tbody>\n",
       "</table>\n",
       "</div>"
      ],
      "text/plain": [
       "          Alcohol       Malic         Ash  Alcalinity   Magnesium     Phenols  \\\n",
       "count  178.000000  178.000000  178.000000  178.000000  178.000000  178.000000   \n",
       "mean    13.000618    2.336348    2.366517   19.494944   99.741573    2.295112   \n",
       "std      0.811827    1.117146    0.274344    3.339564   14.282484    0.625851   \n",
       "min     11.030000    0.740000    1.360000   10.600000   70.000000    0.980000   \n",
       "25%     12.362500    1.602500    2.210000   17.200000   88.000000    1.742500   \n",
       "50%     13.050000    1.865000    2.360000   19.500000   98.000000    2.355000   \n",
       "75%     13.677500    3.082500    2.557500   21.500000  107.000000    2.800000   \n",
       "max     14.830000    5.800000    3.230000   30.000000  162.000000    3.880000   \n",
       "\n",
       "       Flavanoids  Nonflavanoids  Proanthocyanins       Color         Hue  \\\n",
       "count  178.000000     178.000000       178.000000  178.000000  178.000000   \n",
       "mean     2.029270       0.361854         1.590899    5.058090    0.957449   \n",
       "std      0.998859       0.124453         0.572359    2.318286    0.228572   \n",
       "min      0.340000       0.130000         0.410000    1.280000    0.480000   \n",
       "25%      1.205000       0.270000         1.250000    3.220000    0.782500   \n",
       "50%      2.135000       0.340000         1.555000    4.690000    0.965000   \n",
       "75%      2.875000       0.437500         1.950000    6.200000    1.120000   \n",
       "max      5.080000       0.660000         3.580000   13.000000    1.710000   \n",
       "\n",
       "         Dilution      Proline  \n",
       "count  178.000000   178.000000  \n",
       "mean     2.611685   746.893258  \n",
       "std      0.709990   314.907474  \n",
       "min      1.270000   278.000000  \n",
       "25%      1.937500   500.500000  \n",
       "50%      2.780000   673.500000  \n",
       "75%      3.170000   985.000000  \n",
       "max      4.000000  1680.000000  "
      ]
     },
     "execution_count": 9,
     "metadata": {},
     "output_type": "execute_result"
    }
   ],
   "source": [
    "wine2.describe()"
   ]
  },
  {
   "cell_type": "code",
   "execution_count": 10,
   "id": "7c5621f3",
   "metadata": {},
   "outputs": [
    {
     "data": {
      "text/plain": [
       "<AxesSubplot:xlabel='Type', ylabel='count'>"
      ]
     },
     "execution_count": 10,
     "metadata": {},
     "output_type": "execute_result"
    },
    {
     "data": {
      "image/png": "[encoded data removed]",
      "text/plain": [
       "<Figure size 432x288 with 1 Axes>"
      ]
     },
     "metadata": {
      "needs_background": "light"
     },
     "output_type": "display_data"
    }
   ],
   "source": [
    "sns.countplot(x= 'Type', data = wine)"
   ]
  },
  {
   "cell_type": "markdown",
   "id": "7604708e",
   "metadata": {},
   "source": [
    "### Converting data to numpy array"
   ]
  },
  {
   "cell_type": "code",
   "execution_count": 11,
   "id": "eebbba8d",
   "metadata": {},
   "outputs": [
    {
     "data": {
      "text/plain": [
       "array([[1.423e+01, 1.710e+00, 2.430e+00, ..., 1.040e+00, 3.920e+00,\n",
       "        1.065e+03],\n",
       "       [1.320e+01, 1.780e+00, 2.140e+00, ..., 1.050e+00, 3.400e+00,\n",
       "        1.050e+03],\n",
       "       [1.316e+01, 2.360e+00, 2.670e+00, ..., 1.030e+00, 3.170e+00,\n",
       "        1.185e+03],\n",
       "       ...,\n",
       "       [1.327e+01, 4.280e+00, 2.260e+00, ..., 5.900e-01, 1.560e+00,\n",
       "        8.350e+02],\n",
       "       [1.317e+01, 2.590e+00, 2.370e+00, ..., 6.000e-01, 1.620e+00,\n",
       "        8.400e+02],\n",
       "       [1.413e+01, 4.100e+00, 2.740e+00, ..., 6.100e-01, 1.600e+00,\n",
       "        5.600e+02]])"
      ]
     },
     "execution_count": 11,
     "metadata": {},
     "output_type": "execute_result"
    }
   ],
   "source": [
    "wine_ary=wine2.values\n",
    "wine_ary"
   ]
  },
  {
   "cell_type": "markdown",
   "id": "4cef6bee",
   "metadata": {},
   "source": [
    "### Normalizig the Data"
   ]
  },
  {
   "cell_type": "code",
   "execution_count": 12,
   "id": "fbc44a57",
   "metadata": {},
   "outputs": [
    {
     "data": {
      "text/plain": [
       "array([[ 1.51861254, -0.5622498 ,  0.23205254, ...,  0.36217728,\n",
       "         1.84791957,  1.01300893],\n",
       "       [ 0.24628963, -0.49941338, -0.82799632, ...,  0.40605066,\n",
       "         1.1134493 ,  0.96524152],\n",
       "       [ 0.19687903,  0.02123125,  1.10933436, ...,  0.31830389,\n",
       "         0.78858745,  1.39514818],\n",
       "       ...,\n",
       "       [ 0.33275817,  1.74474449, -0.38935541, ..., -1.61212515,\n",
       "        -1.48544548,  0.28057537],\n",
       "       [ 0.20923168,  0.22769377,  0.01273209, ..., -1.56825176,\n",
       "        -1.40069891,  0.29649784],\n",
       "       [ 1.39508604,  1.58316512,  1.36520822, ..., -1.52437837,\n",
       "        -1.42894777, -0.59516041]])"
      ]
     },
     "execution_count": 12,
     "metadata": {},
     "output_type": "execute_result"
    }
   ],
   "source": [
    "wine_norm=scale(wine_ary)\n",
    "wine_norm"
   ]
  },
  {
   "cell_type": "markdown",
   "id": "7d0c8d17",
   "metadata": {},
   "source": [
    "## PCA Implementation"
   ]
  },
  {
   "cell_type": "code",
   "execution_count": 13,
   "id": "69e7142f",
   "metadata": {},
   "outputs": [
    {
     "data": {
      "text/plain": [
       "array([[ 3.31675081e+00, -1.44346263e+00, -1.65739045e-01, ...,\n",
       "        -4.51563395e-01,  5.40810414e-01, -6.62386309e-02],\n",
       "       [ 2.20946492e+00,  3.33392887e-01, -2.02645737e+00, ...,\n",
       "        -1.42657306e-01,  3.88237741e-01,  3.63650247e-03],\n",
       "       [ 2.51674015e+00, -1.03115130e+00,  9.82818670e-01, ...,\n",
       "        -2.86672847e-01,  5.83573183e-04,  2.17165104e-02],\n",
       "       ...,\n",
       "       [-2.67783946e+00, -2.76089913e+00, -9.40941877e-01, ...,\n",
       "         5.12492025e-01,  6.98766451e-01,  7.20776948e-02],\n",
       "       [-2.38701709e+00, -2.29734668e+00, -5.50696197e-01, ...,\n",
       "         2.99821968e-01,  3.39820654e-01, -2.18657605e-02],\n",
       "       [-3.20875816e+00, -2.76891957e+00,  1.01391366e+00, ...,\n",
       "        -2.29964331e-01, -1.88787963e-01, -3.23964720e-01]])"
      ]
     },
     "execution_count": 13,
     "metadata": {},
     "output_type": "execute_result"
    }
   ],
   "source": [
    "pca=PCA(n_components=13)\n",
    "\n",
    "wine_pca=pca.fit_transform(wine_norm)\n",
    "wine_pca"
   ]
  },
  {
   "cell_type": "code",
   "execution_count": 14,
   "id": "a45c7426",
   "metadata": {},
   "outputs": [
    {
     "data": {
      "text/plain": [
       "array([[ 0.1443294 , -0.24518758, -0.00205106, -0.23932041,  0.14199204,\n",
       "         0.39466085,  0.4229343 , -0.2985331 ,  0.31342949, -0.0886167 ,\n",
       "         0.29671456,  0.37616741,  0.28675223],\n",
       "       [-0.48365155, -0.22493093, -0.31606881,  0.0105905 , -0.299634  ,\n",
       "        -0.06503951,  0.00335981, -0.02877949, -0.03930172, -0.52999567,\n",
       "         0.27923515,  0.16449619, -0.36490283],\n",
       "       [-0.20738262,  0.08901289,  0.6262239 ,  0.61208035,  0.13075693,\n",
       "         0.14617896,  0.1506819 ,  0.17036816,  0.14945431, -0.13730621,\n",
       "         0.08522192,  0.16600459, -0.12674592],\n",
       "       [-0.0178563 ,  0.53689028, -0.21417556,  0.06085941, -0.35179658,\n",
       "         0.19806835,  0.15229479, -0.20330102,  0.39905653,  0.06592568,\n",
       "        -0.42777141,  0.18412074, -0.23207086],\n",
       "       [-0.26566365,  0.03521363, -0.14302547,  0.06610294,  0.72704851,\n",
       "        -0.14931841, -0.10902584, -0.50070298,  0.13685982, -0.07643678,\n",
       "        -0.17361452, -0.10116099, -0.1578688 ],\n",
       "       [-0.21353865, -0.53681385, -0.15447466,  0.10082451, -0.03814394,\n",
       "         0.0841223 ,  0.01892002,  0.25859401,  0.53379539,  0.41864414,\n",
       "        -0.10598274, -0.26585107, -0.11972557],\n",
       "       [-0.05639636,  0.42052391, -0.14917061, -0.28696914,  0.3228833 ,\n",
       "        -0.02792498, -0.06068521,  0.59544729,  0.37213935, -0.22771214,\n",
       "         0.23207564, -0.0447637 ,  0.0768045 ],\n",
       "       [-0.39613926, -0.06582674,  0.17026002, -0.42797018,  0.15636143,\n",
       "         0.40593409,  0.18724536,  0.23328465, -0.36822675,  0.03379692,\n",
       "        -0.43662362,  0.07810789, -0.12002267],\n",
       "       [ 0.50861912, -0.07528304, -0.30769445,  0.20044931,  0.27140257,\n",
       "         0.28603452,  0.04957849,  0.19550132, -0.20914487,  0.05621752,\n",
       "         0.08582839,  0.1372269 , -0.57578611],\n",
       "       [ 0.21160473, -0.30907994, -0.02712539,  0.05279942,  0.06787022,\n",
       "        -0.32013135, -0.16315051,  0.21553507,  0.1341839 , -0.29077518,\n",
       "        -0.52239889,  0.52370587,  0.162116  ],\n",
       "       [-0.22591696,  0.07648554, -0.49869142,  0.47931378,  0.07128891,\n",
       "         0.30434119, -0.02569409,  0.11689586, -0.23736257,  0.0318388 ,\n",
       "        -0.04821201,  0.0464233 ,  0.53926983],\n",
       "       [-0.26628645,  0.12169604, -0.04962237, -0.05574287,  0.06222011,\n",
       "        -0.30388245, -0.04289883,  0.04235219, -0.09555303,  0.60422163,\n",
       "         0.259214  ,  0.60095872, -0.07940162],\n",
       "       [ 0.01496997,  0.02596375, -0.14121803,  0.09168285,  0.05677422,\n",
       "        -0.46390791,  0.83225706,  0.11403985, -0.11691707, -0.0119928 ,\n",
       "        -0.08988884, -0.15671813,  0.01444734]])"
      ]
     },
     "execution_count": 14,
     "metadata": {},
     "output_type": "execute_result"
    }
   ],
   "source": [
    "# PCA Components matrix or covariance Matrix\n",
    "pca.components_"
   ]
  },
  {
   "cell_type": "code",
   "execution_count": 15,
   "id": "16cea270",
   "metadata": {},
   "outputs": [
    {
     "data": {
      "text/plain": [
       "array([0.36198848, 0.1920749 , 0.11123631, 0.0706903 , 0.06563294,\n",
       "       0.04935823, 0.04238679, 0.02680749, 0.02222153, 0.01930019,\n",
       "       0.01736836, 0.01298233, 0.00795215])"
      ]
     },
     "execution_count": 15,
     "metadata": {},
     "output_type": "execute_result"
    }
   ],
   "source": [
    "# The amount of variance that each PCA has\n",
    "var=pca.explained_variance_ratio_\n",
    "var"
   ]
  },
  {
   "cell_type": "code",
   "execution_count": 16,
   "id": "23e5df38",
   "metadata": {},
   "outputs": [
    {
     "data": {
      "text/plain": [
       "array([ 36.2 ,  55.41,  66.53,  73.6 ,  80.16,  85.1 ,  89.34,  92.02,\n",
       "        94.24,  96.17,  97.91,  99.21, 100.01])"
      ]
     },
     "execution_count": 16,
     "metadata": {},
     "output_type": "execute_result"
    }
   ],
   "source": [
    "# Cummulative variance of each PCA\n",
    "var1=np.cumsum(np.round(var,4)*100)\n",
    "var1\n"
   ]
  },
  {
   "cell_type": "code",
   "execution_count": 17,
   "id": "b9a0da37",
   "metadata": {},
   "outputs": [
    {
     "data": {
      "text/plain": [
       "[<matplotlib.lines.Line2D at 0x240ad9edb50>]"
      ]
     },
     "execution_count": 17,
     "metadata": {},
     "output_type": "execute_result"
    },
    {
     "data": {
      "image/png": "[encoded data removed]",
      "text/plain": [
       "<Figure size 432x288 with 1 Axes>"
      ]
     },
     "metadata": {
      "needs_background": "light"
     },
     "output_type": "display_data"
    }
   ],
   "source": [
    "# Variance plot for PCA components obtained \n",
    "plt.plot(var1,color='magenta')"
   ]
  },
  {
   "cell_type": "code",
   "execution_count": 18,
   "id": "f45c9c03",
   "metadata": {},
   "outputs": [
    {
     "data": {
      "text/html": [
       "<div>\n",
       "<style scoped>\n",
       "    .dataframe tbody tr th:only-of-type {\n",
       "        vertical-align: middle;\n",
       "    }\n",
       "\n",
       "    .dataframe tbody tr th {\n",
       "        vertical-align: top;\n",
       "    }\n",
       "\n",
       "    .dataframe thead th {\n",
       "        text-align: right;\n",
       "    }\n",
       "</style>\n",
       "<table border=\"1\" class=\"dataframe\">\n",
       "  <thead>\n",
       "    <tr style=\"text-align: right;\">\n",
       "      <th></th>\n",
       "      <th>PC1</th>\n",
       "      <th>PC2</th>\n",
       "      <th>PC3</th>\n",
       "      <th>Type</th>\n",
       "    </tr>\n",
       "  </thead>\n",
       "  <tbody>\n",
       "    <tr>\n",
       "      <th>0</th>\n",
       "      <td>3.316751</td>\n",
       "      <td>-1.443463</td>\n",
       "      <td>-0.165739</td>\n",
       "      <td>1</td>\n",
       "    </tr>\n",
       "    <tr>\n",
       "      <th>1</th>\n",
       "      <td>2.209465</td>\n",
       "      <td>0.333393</td>\n",
       "      <td>-2.026457</td>\n",
       "      <td>1</td>\n",
       "    </tr>\n",
       "    <tr>\n",
       "      <th>2</th>\n",
       "      <td>2.516740</td>\n",
       "      <td>-1.031151</td>\n",
       "      <td>0.982819</td>\n",
       "      <td>1</td>\n",
       "    </tr>\n",
       "    <tr>\n",
       "      <th>3</th>\n",
       "      <td>3.757066</td>\n",
       "      <td>-2.756372</td>\n",
       "      <td>-0.176192</td>\n",
       "      <td>1</td>\n",
       "    </tr>\n",
       "    <tr>\n",
       "      <th>4</th>\n",
       "      <td>1.008908</td>\n",
       "      <td>-0.869831</td>\n",
       "      <td>2.026688</td>\n",
       "      <td>1</td>\n",
       "    </tr>\n",
       "    <tr>\n",
       "      <th>...</th>\n",
       "      <td>...</td>\n",
       "      <td>...</td>\n",
       "      <td>...</td>\n",
       "      <td>...</td>\n",
       "    </tr>\n",
       "    <tr>\n",
       "      <th>173</th>\n",
       "      <td>-3.370524</td>\n",
       "      <td>-2.216289</td>\n",
       "      <td>-0.342570</td>\n",
       "      <td>3</td>\n",
       "    </tr>\n",
       "    <tr>\n",
       "      <th>174</th>\n",
       "      <td>-2.601956</td>\n",
       "      <td>-1.757229</td>\n",
       "      <td>0.207581</td>\n",
       "      <td>3</td>\n",
       "    </tr>\n",
       "    <tr>\n",
       "      <th>175</th>\n",
       "      <td>-2.677839</td>\n",
       "      <td>-2.760899</td>\n",
       "      <td>-0.940942</td>\n",
       "      <td>3</td>\n",
       "    </tr>\n",
       "    <tr>\n",
       "      <th>176</th>\n",
       "      <td>-2.387017</td>\n",
       "      <td>-2.297347</td>\n",
       "      <td>-0.550696</td>\n",
       "      <td>3</td>\n",
       "    </tr>\n",
       "    <tr>\n",
       "      <th>177</th>\n",
       "      <td>-3.208758</td>\n",
       "      <td>-2.768920</td>\n",
       "      <td>1.013914</td>\n",
       "      <td>3</td>\n",
       "    </tr>\n",
       "  </tbody>\n",
       "</table>\n",
       "<p>178 rows × 4 columns</p>\n",
       "</div>"
      ],
      "text/plain": [
       "          PC1       PC2       PC3  Type\n",
       "0    3.316751 -1.443463 -0.165739     1\n",
       "1    2.209465  0.333393 -2.026457     1\n",
       "2    2.516740 -1.031151  0.982819     1\n",
       "3    3.757066 -2.756372 -0.176192     1\n",
       "4    1.008908 -0.869831  2.026688     1\n",
       "..        ...       ...       ...   ...\n",
       "173 -3.370524 -2.216289 -0.342570     3\n",
       "174 -2.601956 -1.757229  0.207581     3\n",
       "175 -2.677839 -2.760899 -0.940942     3\n",
       "176 -2.387017 -2.297347 -0.550696     3\n",
       "177 -3.208758 -2.768920  1.013914     3\n",
       "\n",
       "[178 rows x 4 columns]"
      ]
     },
     "execution_count": 18,
     "metadata": {},
     "output_type": "execute_result"
    }
   ],
   "source": [
    "# Final Dataframe\n",
    "final_df=pd.concat([pd.DataFrame(wine_pca[:,0:3],columns=['PC1','PC2','PC3']),wine['Type']],axis=1)\n",
    "final_df"
   ]
  },
  {
   "cell_type": "code",
   "execution_count": 19,
   "id": "84ad1f0e",
   "metadata": {},
   "outputs": [
    {
     "data": {
      "text/plain": [
       "<AxesSubplot:>"
      ]
     },
     "execution_count": 19,
     "metadata": {},
     "output_type": "execute_result"
    },
    {
     "data": {
      "image/png": "[encoded data removed]",
      "text/plain": [
       "<Figure size 1152x864 with 1 Axes>"
      ]
     },
     "metadata": {
      "needs_background": "light"
     },
     "output_type": "display_data"
    }
   ],
   "source": [
    "# Visualization of PCAs\n",
    "fig=plt.figure(figsize=(16,12))\n",
    "sns.scatterplot(data=final_df)"
   ]
  },
  {
   "cell_type": "markdown",
   "id": "23a854ac",
   "metadata": {},
   "source": [
    "## Checking with other Clustering Algorithems"
   ]
  },
  {
   "cell_type": "code",
   "execution_count": 20,
   "id": "2e46745c",
   "metadata": {},
   "outputs": [
    {
     "data": {
      "text/html": [
       "<div>\n",
       "<style scoped>\n",
       "    .dataframe tbody tr th:only-of-type {\n",
       "        vertical-align: middle;\n",
       "    }\n",
       "\n",
       "    .dataframe tbody tr th {\n",
       "        vertical-align: top;\n",
       "    }\n",
       "\n",
       "    .dataframe thead th {\n",
       "        text-align: right;\n",
       "    }\n",
       "</style>\n",
       "<table border=\"1\" class=\"dataframe\">\n",
       "  <thead>\n",
       "    <tr style=\"text-align: right;\">\n",
       "      <th></th>\n",
       "      <th>0</th>\n",
       "      <th>1</th>\n",
       "      <th>2</th>\n",
       "    </tr>\n",
       "  </thead>\n",
       "  <tbody>\n",
       "    <tr>\n",
       "      <th>0</th>\n",
       "      <td>0.884094</td>\n",
       "      <td>0.280447</td>\n",
       "      <td>0.445028</td>\n",
       "    </tr>\n",
       "    <tr>\n",
       "      <th>1</th>\n",
       "      <td>0.755241</td>\n",
       "      <td>0.520989</td>\n",
       "      <td>0.257653</td>\n",
       "    </tr>\n",
       "    <tr>\n",
       "      <th>2</th>\n",
       "      <td>0.790998</td>\n",
       "      <td>0.336264</td>\n",
       "      <td>0.560688</td>\n",
       "    </tr>\n",
       "    <tr>\n",
       "      <th>3</th>\n",
       "      <td>0.935332</td>\n",
       "      <td>0.102712</td>\n",
       "      <td>0.443975</td>\n",
       "    </tr>\n",
       "    <tr>\n",
       "      <th>4</th>\n",
       "      <td>0.615534</td>\n",
       "      <td>0.358103</td>\n",
       "      <td>0.665806</td>\n",
       "    </tr>\n",
       "  </tbody>\n",
       "</table>\n",
       "</div>"
      ],
      "text/plain": [
       "          0         1         2\n",
       "0  0.884094  0.280447  0.445028\n",
       "1  0.755241  0.520989  0.257653\n",
       "2  0.790998  0.336264  0.560688\n",
       "3  0.935332  0.102712  0.443975\n",
       "4  0.615534  0.358103  0.665806"
      ]
     },
     "execution_count": 20,
     "metadata": {},
     "output_type": "execute_result"
    }
   ],
   "source": [
    "#Normalizing the dataframe have 3 principle components for clustering\n",
    "\n",
    "from sklearn.preprocessing import MinMaxScaler\n",
    "final_df_norm = pd.DataFrame(MinMaxScaler().fit_transform(final_df.iloc[:,:3]))\n",
    "final_df_norm.head()"
   ]
  },
  {
   "cell_type": "markdown",
   "id": "cda82b15",
   "metadata": {},
   "source": [
    "## 1. Hierarcical Clustering"
   ]
  },
  {
   "cell_type": "code",
   "execution_count": 21,
   "id": "e7ccdea0",
   "metadata": {},
   "outputs": [],
   "source": [
    "# Import Libraries\n",
    "import scipy.cluster.hierarchy as sch\n",
    "from sklearn.cluster import AgglomerativeClustering\n",
    "from sklearn.preprocessing import normalize\n",
    "from scipy.cluster.hierarchy import linkage"
   ]
  },
  {
   "cell_type": "code",
   "execution_count": 22,
   "id": "eba0330a",
   "metadata": {},
   "outputs": [
    {
     "data": {
      "image/png": "[encoded data removed]",
      "text/plain": [
       "<Figure size 1440x576 with 1 Axes>"
      ]
     },
     "metadata": {
      "needs_background": "light"
     },
     "output_type": "display_data"
    }
   ],
   "source": [
    "h_clust = linkage(final_df_norm, method=\"complete\", metric=\"euclidean\")\n",
    "plt.figure(figsize=(20,8))\n",
    "plt.title('Hierarchical Clustering Dendrogram')\n",
    "plt.xlabel('Index')\n",
    "plt.ylabel('Euclidean Distance')\n",
    "sch.dendrogram(h_clust)\n",
    "plt.show()"
   ]
  },
  {
   "cell_type": "code",
   "execution_count": 23,
   "id": "c178f26f",
   "metadata": {},
   "outputs": [
    {
     "data": {
      "text/plain": [
       "AgglomerativeClustering(linkage='average', n_clusters=3)"
      ]
     },
     "execution_count": 23,
     "metadata": {},
     "output_type": "execute_result"
    }
   ],
   "source": [
    "# Clustering of Observations\n",
    "from sklearn.cluster import AgglomerativeClustering\n",
    "h_result= AgglomerativeClustering(n_clusters=3, linkage='average', affinity='euclidean').fit(final_df_norm)\n",
    "h_result"
   ]
  },
  {
   "cell_type": "code",
   "execution_count": 24,
   "id": "32dcb451",
   "metadata": {},
   "outputs": [
    {
     "data": {
      "text/html": [
       "<div>\n",
       "<style scoped>\n",
       "    .dataframe tbody tr th:only-of-type {\n",
       "        vertical-align: middle;\n",
       "    }\n",
       "\n",
       "    .dataframe tbody tr th {\n",
       "        vertical-align: top;\n",
       "    }\n",
       "\n",
       "    .dataframe thead th {\n",
       "        text-align: right;\n",
       "    }\n",
       "</style>\n",
       "<table border=\"1\" class=\"dataframe\">\n",
       "  <thead>\n",
       "    <tr style=\"text-align: right;\">\n",
       "      <th></th>\n",
       "      <th>PC1</th>\n",
       "      <th>PC2</th>\n",
       "      <th>PC3</th>\n",
       "      <th>Type</th>\n",
       "      <th>cluster_H</th>\n",
       "    </tr>\n",
       "  </thead>\n",
       "  <tbody>\n",
       "    <tr>\n",
       "      <th>0</th>\n",
       "      <td>3.316751</td>\n",
       "      <td>-1.443463</td>\n",
       "      <td>-0.165739</td>\n",
       "      <td>1</td>\n",
       "      <td>0</td>\n",
       "    </tr>\n",
       "    <tr>\n",
       "      <th>1</th>\n",
       "      <td>2.209465</td>\n",
       "      <td>0.333393</td>\n",
       "      <td>-2.026457</td>\n",
       "      <td>1</td>\n",
       "      <td>0</td>\n",
       "    </tr>\n",
       "    <tr>\n",
       "      <th>2</th>\n",
       "      <td>2.516740</td>\n",
       "      <td>-1.031151</td>\n",
       "      <td>0.982819</td>\n",
       "      <td>1</td>\n",
       "      <td>0</td>\n",
       "    </tr>\n",
       "    <tr>\n",
       "      <th>3</th>\n",
       "      <td>3.757066</td>\n",
       "      <td>-2.756372</td>\n",
       "      <td>-0.176192</td>\n",
       "      <td>1</td>\n",
       "      <td>0</td>\n",
       "    </tr>\n",
       "    <tr>\n",
       "      <th>4</th>\n",
       "      <td>1.008908</td>\n",
       "      <td>-0.869831</td>\n",
       "      <td>2.026688</td>\n",
       "      <td>1</td>\n",
       "      <td>0</td>\n",
       "    </tr>\n",
       "    <tr>\n",
       "      <th>...</th>\n",
       "      <td>...</td>\n",
       "      <td>...</td>\n",
       "      <td>...</td>\n",
       "      <td>...</td>\n",
       "      <td>...</td>\n",
       "    </tr>\n",
       "    <tr>\n",
       "      <th>173</th>\n",
       "      <td>-3.370524</td>\n",
       "      <td>-2.216289</td>\n",
       "      <td>-0.342570</td>\n",
       "      <td>3</td>\n",
       "      <td>2</td>\n",
       "    </tr>\n",
       "    <tr>\n",
       "      <th>174</th>\n",
       "      <td>-2.601956</td>\n",
       "      <td>-1.757229</td>\n",
       "      <td>0.207581</td>\n",
       "      <td>3</td>\n",
       "      <td>2</td>\n",
       "    </tr>\n",
       "    <tr>\n",
       "      <th>175</th>\n",
       "      <td>-2.677839</td>\n",
       "      <td>-2.760899</td>\n",
       "      <td>-0.940942</td>\n",
       "      <td>3</td>\n",
       "      <td>2</td>\n",
       "    </tr>\n",
       "    <tr>\n",
       "      <th>176</th>\n",
       "      <td>-2.387017</td>\n",
       "      <td>-2.297347</td>\n",
       "      <td>-0.550696</td>\n",
       "      <td>3</td>\n",
       "      <td>2</td>\n",
       "    </tr>\n",
       "    <tr>\n",
       "      <th>177</th>\n",
       "      <td>-3.208758</td>\n",
       "      <td>-2.768920</td>\n",
       "      <td>1.013914</td>\n",
       "      <td>3</td>\n",
       "      <td>2</td>\n",
       "    </tr>\n",
       "  </tbody>\n",
       "</table>\n",
       "<p>178 rows × 5 columns</p>\n",
       "</div>"
      ],
      "text/plain": [
       "          PC1       PC2       PC3  Type  cluster_H\n",
       "0    3.316751 -1.443463 -0.165739     1          0\n",
       "1    2.209465  0.333393 -2.026457     1          0\n",
       "2    2.516740 -1.031151  0.982819     1          0\n",
       "3    3.757066 -2.756372 -0.176192     1          0\n",
       "4    1.008908 -0.869831  2.026688     1          0\n",
       "..        ...       ...       ...   ...        ...\n",
       "173 -3.370524 -2.216289 -0.342570     3          2\n",
       "174 -2.601956 -1.757229  0.207581     3          2\n",
       "175 -2.677839 -2.760899 -0.940942     3          2\n",
       "176 -2.387017 -2.297347 -0.550696     3          2\n",
       "177 -3.208758 -2.768920  1.013914     3          2\n",
       "\n",
       "[178 rows x 5 columns]"
      ]
     },
     "execution_count": 24,
     "metadata": {},
     "output_type": "execute_result"
    }
   ],
   "source": [
    "final_df['cluster_H']= pd.Series(h_result.labels_)\n",
    "final_df"
   ]
  },
  {
   "cell_type": "code",
   "execution_count": 25,
   "id": "1ded49a6",
   "metadata": {},
   "outputs": [
    {
     "data": {
      "text/html": [
       "<div>\n",
       "<style scoped>\n",
       "    .dataframe tbody tr th:only-of-type {\n",
       "        vertical-align: middle;\n",
       "    }\n",
       "\n",
       "    .dataframe tbody tr th {\n",
       "        vertical-align: top;\n",
       "    }\n",
       "\n",
       "    .dataframe thead th {\n",
       "        text-align: right;\n",
       "    }\n",
       "</style>\n",
       "<table border=\"1\" class=\"dataframe\">\n",
       "  <thead>\n",
       "    <tr style=\"text-align: right;\">\n",
       "      <th></th>\n",
       "      <th>PC1</th>\n",
       "      <th>PC2</th>\n",
       "      <th>PC3</th>\n",
       "      <th>Type</th>\n",
       "    </tr>\n",
       "    <tr>\n",
       "      <th>cluster_H</th>\n",
       "      <th></th>\n",
       "      <th></th>\n",
       "      <th></th>\n",
       "      <th></th>\n",
       "    </tr>\n",
       "  </thead>\n",
       "  <tbody>\n",
       "    <tr>\n",
       "      <th>0</th>\n",
       "      <td>1.012955</td>\n",
       "      <td>0.436239</td>\n",
       "      <td>0.084528</td>\n",
       "      <td>1.561538</td>\n",
       "    </tr>\n",
       "    <tr>\n",
       "      <th>1</th>\n",
       "      <td>-0.928582</td>\n",
       "      <td>3.073486</td>\n",
       "      <td>-4.585064</td>\n",
       "      <td>2.000000</td>\n",
       "    </tr>\n",
       "    <tr>\n",
       "      <th>2</th>\n",
       "      <td>-2.782034</td>\n",
       "      <td>-1.272012</td>\n",
       "      <td>-0.136247</td>\n",
       "      <td>2.978723</td>\n",
       "    </tr>\n",
       "  </tbody>\n",
       "</table>\n",
       "</div>"
      ],
      "text/plain": [
       "                PC1       PC2       PC3      Type\n",
       "cluster_H                                        \n",
       "0          1.012955  0.436239  0.084528  1.561538\n",
       "1         -0.928582  3.073486 -4.585064  2.000000\n",
       "2         -2.782034 -1.272012 -0.136247  2.978723"
      ]
     },
     "execution_count": 25,
     "metadata": {},
     "output_type": "execute_result"
    }
   ],
   "source": [
    "final_df.iloc[:,:].groupby(final_df.cluster_H).mean()"
   ]
  },
  {
   "cell_type": "markdown",
   "id": "e3247c4c",
   "metadata": {},
   "source": [
    "## 2. K-Means Clustering"
   ]
  },
  {
   "cell_type": "code",
   "execution_count": 26,
   "id": "3fdf3d82",
   "metadata": {},
   "outputs": [],
   "source": [
    "# Import Libraries\n",
    "from sklearn.cluster import KMeans\n"
   ]
  },
  {
   "cell_type": "code",
   "execution_count": 27,
   "id": "d1358bcc",
   "metadata": {},
   "outputs": [],
   "source": [
    "# As we already have normalized data\n",
    "# Use Elbow Graph to find optimum number of  clusters (K value) from K values range\n",
    "# The K-means algorithm aims to choose centroids that minimise the inertia, or within-cluster sum-of-squares criterion WCSS "
   ]
  },
  {
   "cell_type": "code",
   "execution_count": 28,
   "id": "fd598bfe",
   "metadata": {},
   "outputs": [
    {
     "name": "stderr",
     "output_type": "stream",
     "text": [
      "C:\\Users\\admin\\anaconda3\\lib\\site-packages\\sklearn\\cluster\\_kmeans.py:1036: UserWarning: KMeans is known to have a memory leak on Windows with MKL, when there are less chunks than available threads. You can avoid it by setting the environment variable OMP_NUM_THREADS=1.\n",
      "  warnings.warn(\n"
     ]
    },
    {
     "data": {
      "image/png": "[encoded data removed]",
      "text/plain": [
       "<Figure size 720x576 with 1 Axes>"
      ]
     },
     "metadata": {
      "needs_background": "light"
     },
     "output_type": "display_data"
    }
   ],
   "source": [
    "fig = plt.figure(figsize=(10, 8))\n",
    "WCSS = []\n",
    "for i in range(1, 12):\n",
    "    clf = KMeans(n_clusters=i)\n",
    "    clf.fit(final_df_norm)\n",
    "    WCSS.append(clf.inertia_)               # inertia is another name for WCSS\n",
    "plt.plot(range(1, 12), WCSS)\n",
    "plt.title('The Elbow Method')\n",
    "plt.ylabel('WCSS')\n",
    "plt.xlabel('Number of Clusters')\n",
    "plt.show()"
   ]
  },
  {
   "cell_type": "code",
   "execution_count": 29,
   "id": "0b3ecc6b",
   "metadata": {},
   "outputs": [
    {
     "data": {
      "text/plain": [
       "array([2, 2, 2, 2, 2, 2, 2, 2, 2, 2, 2, 2, 2, 2, 2, 2, 2, 2, 2, 2, 2, 2,\n",
       "       2, 2, 2, 2, 2, 2, 2, 2, 2, 2, 2, 2, 2, 2, 2, 2, 0, 2, 2, 2, 2, 2,\n",
       "       2, 2, 2, 2, 2, 2, 2, 2, 2, 2, 2, 2, 2, 2, 2, 0, 0, 0, 0, 0, 0, 0,\n",
       "       0, 0, 0, 0, 0, 0, 0, 2, 0, 0, 0, 0, 0, 0, 0, 0, 0, 1, 0, 0, 0, 0,\n",
       "       0, 0, 0, 0, 0, 0, 0, 2, 0, 0, 0, 0, 0, 0, 0, 0, 0, 0, 0, 0, 0, 0,\n",
       "       0, 0, 0, 0, 0, 0, 0, 0, 0, 0, 0, 2, 0, 0, 0, 0, 0, 0, 0, 0, 1, 1,\n",
       "       1, 1, 1, 1, 1, 1, 1, 1, 1, 1, 1, 1, 1, 1, 1, 1, 1, 1, 1, 1, 1, 1,\n",
       "       1, 1, 1, 1, 1, 1, 1, 1, 1, 1, 1, 1, 1, 1, 1, 1, 1, 1, 1, 1, 1, 1,\n",
       "       1, 1])"
      ]
     },
     "execution_count": 29,
     "metadata": {},
     "output_type": "execute_result"
    }
   ],
   "source": [
    "# slope is getting constant at aprroximate number of clusters = 4\n",
    "k_wine = KMeans(n_clusters= 3)\n",
    "y_kmeans = k_wine.fit_predict(final_df_norm)\n",
    "y_kmeans"
   ]
  },
  {
   "cell_type": "code",
   "execution_count": 30,
   "id": "ecf0985d",
   "metadata": {},
   "outputs": [
    {
     "data": {
      "text/html": [
       "<div>\n",
       "<style scoped>\n",
       "    .dataframe tbody tr th:only-of-type {\n",
       "        vertical-align: middle;\n",
       "    }\n",
       "\n",
       "    .dataframe tbody tr th {\n",
       "        vertical-align: top;\n",
       "    }\n",
       "\n",
       "    .dataframe thead th {\n",
       "        text-align: right;\n",
       "    }\n",
       "</style>\n",
       "<table border=\"1\" class=\"dataframe\">\n",
       "  <thead>\n",
       "    <tr style=\"text-align: right;\">\n",
       "      <th></th>\n",
       "      <th>PC1</th>\n",
       "      <th>PC2</th>\n",
       "      <th>PC3</th>\n",
       "      <th>Type</th>\n",
       "      <th>clusters_K</th>\n",
       "    </tr>\n",
       "  </thead>\n",
       "  <tbody>\n",
       "    <tr>\n",
       "      <th>0</th>\n",
       "      <td>3.316751</td>\n",
       "      <td>-1.443463</td>\n",
       "      <td>-0.165739</td>\n",
       "      <td>1</td>\n",
       "      <td>2</td>\n",
       "    </tr>\n",
       "    <tr>\n",
       "      <th>1</th>\n",
       "      <td>2.209465</td>\n",
       "      <td>0.333393</td>\n",
       "      <td>-2.026457</td>\n",
       "      <td>1</td>\n",
       "      <td>2</td>\n",
       "    </tr>\n",
       "    <tr>\n",
       "      <th>2</th>\n",
       "      <td>2.516740</td>\n",
       "      <td>-1.031151</td>\n",
       "      <td>0.982819</td>\n",
       "      <td>1</td>\n",
       "      <td>2</td>\n",
       "    </tr>\n",
       "    <tr>\n",
       "      <th>3</th>\n",
       "      <td>3.757066</td>\n",
       "      <td>-2.756372</td>\n",
       "      <td>-0.176192</td>\n",
       "      <td>1</td>\n",
       "      <td>2</td>\n",
       "    </tr>\n",
       "    <tr>\n",
       "      <th>4</th>\n",
       "      <td>1.008908</td>\n",
       "      <td>-0.869831</td>\n",
       "      <td>2.026688</td>\n",
       "      <td>1</td>\n",
       "      <td>2</td>\n",
       "    </tr>\n",
       "    <tr>\n",
       "      <th>5</th>\n",
       "      <td>3.050254</td>\n",
       "      <td>-2.122401</td>\n",
       "      <td>-0.629396</td>\n",
       "      <td>1</td>\n",
       "      <td>2</td>\n",
       "    </tr>\n",
       "    <tr>\n",
       "      <th>6</th>\n",
       "      <td>2.449090</td>\n",
       "      <td>-1.174850</td>\n",
       "      <td>-0.977095</td>\n",
       "      <td>1</td>\n",
       "      <td>2</td>\n",
       "    </tr>\n",
       "    <tr>\n",
       "      <th>7</th>\n",
       "      <td>2.059437</td>\n",
       "      <td>-1.608963</td>\n",
       "      <td>0.146282</td>\n",
       "      <td>1</td>\n",
       "      <td>2</td>\n",
       "    </tr>\n",
       "    <tr>\n",
       "      <th>8</th>\n",
       "      <td>2.510874</td>\n",
       "      <td>-0.918071</td>\n",
       "      <td>-1.770969</td>\n",
       "      <td>1</td>\n",
       "      <td>2</td>\n",
       "    </tr>\n",
       "    <tr>\n",
       "      <th>9</th>\n",
       "      <td>2.753628</td>\n",
       "      <td>-0.789438</td>\n",
       "      <td>-0.984247</td>\n",
       "      <td>1</td>\n",
       "      <td>2</td>\n",
       "    </tr>\n",
       "  </tbody>\n",
       "</table>\n",
       "</div>"
      ],
      "text/plain": [
       "        PC1       PC2       PC3  Type  clusters_K\n",
       "0  3.316751 -1.443463 -0.165739     1           2\n",
       "1  2.209465  0.333393 -2.026457     1           2\n",
       "2  2.516740 -1.031151  0.982819     1           2\n",
       "3  3.757066 -2.756372 -0.176192     1           2\n",
       "4  1.008908 -0.869831  2.026688     1           2\n",
       "5  3.050254 -2.122401 -0.629396     1           2\n",
       "6  2.449090 -1.174850 -0.977095     1           2\n",
       "7  2.059437 -1.608963  0.146282     1           2\n",
       "8  2.510874 -0.918071 -1.770969     1           2\n",
       "9  2.753628 -0.789438 -0.984247     1           2"
      ]
     },
     "execution_count": 30,
     "metadata": {},
     "output_type": "execute_result"
    }
   ],
   "source": [
    "final_df = pd.concat([pd.DataFrame(wine_pca[:, 0:3], columns= ['PC1', 'PC2', 'PC3']), wine['Type']], axis=1)\n",
    "final_df\n",
    "\n",
    "final_df['clusters_K'] = pd.Series(y_kmeans) \n",
    "final_df.head(10)"
   ]
  },
  {
   "cell_type": "code",
   "execution_count": 31,
   "id": "f58e9e9e",
   "metadata": {},
   "outputs": [
    {
     "data": {
      "text/html": [
       "<div>\n",
       "<style scoped>\n",
       "    .dataframe tbody tr th:only-of-type {\n",
       "        vertical-align: middle;\n",
       "    }\n",
       "\n",
       "    .dataframe tbody tr th {\n",
       "        vertical-align: top;\n",
       "    }\n",
       "\n",
       "    .dataframe thead th {\n",
       "        text-align: right;\n",
       "    }\n",
       "</style>\n",
       "<table border=\"1\" class=\"dataframe\">\n",
       "  <thead>\n",
       "    <tr style=\"text-align: right;\">\n",
       "      <th></th>\n",
       "      <th>PC1</th>\n",
       "      <th>PC2</th>\n",
       "      <th>PC3</th>\n",
       "      <th>Type</th>\n",
       "    </tr>\n",
       "    <tr>\n",
       "      <th>clusters_K</th>\n",
       "      <th></th>\n",
       "      <th></th>\n",
       "      <th></th>\n",
       "      <th></th>\n",
       "    </tr>\n",
       "  </thead>\n",
       "  <tbody>\n",
       "    <tr>\n",
       "      <th>0</th>\n",
       "      <td>-0.076018</td>\n",
       "      <td>1.736061</td>\n",
       "      <td>0.105355</td>\n",
       "      <td>1.985294</td>\n",
       "    </tr>\n",
       "    <tr>\n",
       "      <th>1</th>\n",
       "      <td>-2.743930</td>\n",
       "      <td>-1.214191</td>\n",
       "      <td>-0.177245</td>\n",
       "      <td>2.979592</td>\n",
       "    </tr>\n",
       "    <tr>\n",
       "      <th>2</th>\n",
       "      <td>2.288882</td>\n",
       "      <td>-0.959947</td>\n",
       "      <td>0.024933</td>\n",
       "      <td>1.049180</td>\n",
       "    </tr>\n",
       "  </tbody>\n",
       "</table>\n",
       "</div>"
      ],
      "text/plain": [
       "                 PC1       PC2       PC3      Type\n",
       "clusters_K                                        \n",
       "0          -0.076018  1.736061  0.105355  1.985294\n",
       "1          -2.743930 -1.214191 -0.177245  2.979592\n",
       "2           2.288882 -0.959947  0.024933  1.049180"
      ]
     },
     "execution_count": 31,
     "metadata": {},
     "output_type": "execute_result"
    }
   ],
   "source": [
    "final_df.iloc[:, :].groupby(final_df.clusters_K).mean()"
   ]
  },
  {
   "cell_type": "code",
   "execution_count": 32,
   "id": "5da525cb",
   "metadata": {},
   "outputs": [
    {
     "data": {
      "text/plain": [
       "<AxesSubplot:xlabel='PC1', ylabel='PC2'>"
      ]
     },
     "execution_count": 32,
     "metadata": {},
     "output_type": "execute_result"
    },
    {
     "data": {
      "image/png": "[encoded data removed]",
      "text/plain": [
       "<Figure size 432x288 with 2 Axes>"
      ]
     },
     "metadata": {
      "needs_background": "light"
     },
     "output_type": "display_data"
    }
   ],
   "source": [
    "final_df.plot(x = \"PC1\", y = \"PC2\", c = k_wine.labels_, kind = 'scatter', s= 25, cmap = plt.cm.coolwarm)"
   ]
  },
  {
   "cell_type": "code",
   "execution_count": null,
   "id": "737ebe37",
   "metadata": {},
   "outputs": [],
   "source": []
  }
 ],
 "metadata": {
  "kernelspec": {
   "display_name": "Python 3",
   "language": "python",
   "name": "python3"
  },
  "language_info": {
   "codemirror_mode": {
    "name": "ipython",
    "version": 3
   },
   "file_extension": ".py",
   "mimetype": "text/x-python",
   "name": "python",
   "nbconvert_exporter": "python",
   "pygments_lexer": "ipython3",
   "version": "3.8.8"
  }
 },
 "nbformat": 4,
 "nbformat_minor": 5
}
