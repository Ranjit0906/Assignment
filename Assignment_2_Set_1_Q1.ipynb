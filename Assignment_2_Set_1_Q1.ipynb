{
 "cells": [
  {
   "cell_type": "markdown",
   "id": "dce04e61",
   "metadata": {},
   "source": [
    "# Assignment_2_Set_1_Q1"
   ]
  },
  {
   "cell_type": "markdown",
   "id": "005657ad",
   "metadata": {},
   "source": [
    "# Set-1 Topics: Descriptive Statistics and Probability"
   ]
  },
  {
   "cell_type": "code",
   "execution_count": 4,
   "id": "82115285",
   "metadata": {},
   "outputs": [],
   "source": [
    "import numpy as np\n",
    "import pandas as pd\n",
    "import matplotlib.pyplot as plt\n",
    "import seaborn as sns\n",
    "%matplotlib inline"
   ]
  },
  {
   "cell_type": "code",
   "execution_count": 27,
   "id": "60e0209a",
   "metadata": {},
   "outputs": [],
   "source": [
    "df=pd.read_csv('C:\\Assignment_Excelr\\Assignment 2\\DS2.csv')"
   ]
  },
  {
   "cell_type": "code",
   "execution_count": 28,
   "id": "9677754f",
   "metadata": {},
   "outputs": [
    {
     "data": {
      "text/html": [
       "<div>\n",
       "<style scoped>\n",
       "    .dataframe tbody tr th:only-of-type {\n",
       "        vertical-align: middle;\n",
       "    }\n",
       "\n",
       "    .dataframe tbody tr th {\n",
       "        vertical-align: top;\n",
       "    }\n",
       "\n",
       "    .dataframe thead th {\n",
       "        text-align: right;\n",
       "    }\n",
       "</style>\n",
       "<table border=\"1\" class=\"dataframe\">\n",
       "  <thead>\n",
       "    <tr style=\"text-align: right;\">\n",
       "      <th></th>\n",
       "      <th>Name of company</th>\n",
       "      <th>Measure X</th>\n",
       "    </tr>\n",
       "  </thead>\n",
       "  <tbody>\n",
       "    <tr>\n",
       "      <th>0</th>\n",
       "      <td>Allied Signal</td>\n",
       "      <td>24.23</td>\n",
       "    </tr>\n",
       "    <tr>\n",
       "      <th>1</th>\n",
       "      <td>Bankers Trust</td>\n",
       "      <td>25.53</td>\n",
       "    </tr>\n",
       "    <tr>\n",
       "      <th>2</th>\n",
       "      <td>General Mills</td>\n",
       "      <td>25.41</td>\n",
       "    </tr>\n",
       "    <tr>\n",
       "      <th>3</th>\n",
       "      <td>ITT Industries</td>\n",
       "      <td>24.14</td>\n",
       "    </tr>\n",
       "    <tr>\n",
       "      <th>4</th>\n",
       "      <td>J.P.Morgan &amp; Co.</td>\n",
       "      <td>29.62</td>\n",
       "    </tr>\n",
       "    <tr>\n",
       "      <th>5</th>\n",
       "      <td>Lehman Brothers</td>\n",
       "      <td>28.25</td>\n",
       "    </tr>\n",
       "    <tr>\n",
       "      <th>6</th>\n",
       "      <td>Marriott</td>\n",
       "      <td>25.81</td>\n",
       "    </tr>\n",
       "    <tr>\n",
       "      <th>7</th>\n",
       "      <td>MCI</td>\n",
       "      <td>24.39</td>\n",
       "    </tr>\n",
       "    <tr>\n",
       "      <th>8</th>\n",
       "      <td>Merrill Lynch</td>\n",
       "      <td>40.26</td>\n",
       "    </tr>\n",
       "    <tr>\n",
       "      <th>9</th>\n",
       "      <td>Microsoft</td>\n",
       "      <td>32.95</td>\n",
       "    </tr>\n",
       "    <tr>\n",
       "      <th>10</th>\n",
       "      <td>Morgan Stanley</td>\n",
       "      <td>91.36</td>\n",
       "    </tr>\n",
       "    <tr>\n",
       "      <th>11</th>\n",
       "      <td>Sun Microsystems</td>\n",
       "      <td>25.99</td>\n",
       "    </tr>\n",
       "    <tr>\n",
       "      <th>12</th>\n",
       "      <td>Travelers</td>\n",
       "      <td>39.42</td>\n",
       "    </tr>\n",
       "    <tr>\n",
       "      <th>13</th>\n",
       "      <td>US Airways</td>\n",
       "      <td>26.71</td>\n",
       "    </tr>\n",
       "    <tr>\n",
       "      <th>14</th>\n",
       "      <td>Warner-Lambert</td>\n",
       "      <td>35.00</td>\n",
       "    </tr>\n",
       "  </tbody>\n",
       "</table>\n",
       "</div>"
      ],
      "text/plain": [
       "     Name of company  Measure X\n",
       "0      Allied Signal      24.23\n",
       "1      Bankers Trust      25.53\n",
       "2      General Mills      25.41\n",
       "3     ITT Industries      24.14\n",
       "4   J.P.Morgan & Co.      29.62\n",
       "5    Lehman Brothers      28.25\n",
       "6           Marriott      25.81\n",
       "7                MCI      24.39\n",
       "8      Merrill Lynch      40.26\n",
       "9          Microsoft      32.95\n",
       "10    Morgan Stanley      91.36\n",
       "11  Sun Microsystems      25.99\n",
       "12         Travelers      39.42\n",
       "13        US Airways      26.71\n",
       "14    Warner-Lambert      35.00"
      ]
     },
     "execution_count": 28,
     "metadata": {},
     "output_type": "execute_result"
    }
   ],
   "source": [
    "df"
   ]
  },
  {
   "cell_type": "code",
   "execution_count": 29,
   "id": "2db8a7d6",
   "metadata": {},
   "outputs": [
    {
     "data": {
      "text/plain": [
       "Measure X    33.271333\n",
       "dtype: float64"
      ]
     },
     "execution_count": 29,
     "metadata": {},
     "output_type": "execute_result"
    }
   ],
   "source": [
    "# Find out mean μ\n",
    "df.mean()"
   ]
  },
  {
   "cell_type": "code",
   "execution_count": 30,
   "id": "cd2bf46c",
   "metadata": {},
   "outputs": [
    {
     "data": {
      "text/plain": [
       "Measure X    16.945401\n",
       "dtype: float64"
      ]
     },
     "execution_count": 30,
     "metadata": {},
     "output_type": "execute_result"
    }
   ],
   "source": [
    "# Find out σ\n",
    "df.std()"
   ]
  },
  {
   "cell_type": "code",
   "execution_count": 31,
   "id": "903be388",
   "metadata": {},
   "outputs": [
    {
     "data": {
      "text/plain": [
       "Measure X    287.146612\n",
       "dtype: float64"
      ]
     },
     "execution_count": 31,
     "metadata": {},
     "output_type": "execute_result"
    }
   ],
   "source": [
    "#Find Out σ^2\n",
    "df.var()"
   ]
  },
  {
   "cell_type": "code",
   "execution_count": 35,
   "id": "43afba96",
   "metadata": {},
   "outputs": [
    {
     "data": {
      "text/plain": [
       "{'whiskers': [<matplotlib.lines.Line2D at 0x14ab5363e20>,\n",
       "  <matplotlib.lines.Line2D at 0x14ab53731c0>],\n",
       " 'caps': [<matplotlib.lines.Line2D at 0x14ab5373520>,\n",
       "  <matplotlib.lines.Line2D at 0x14ab5373880>],\n",
       " 'boxes': [<matplotlib.lines.Line2D at 0x14ab5363ac0>],\n",
       " 'medians': [<matplotlib.lines.Line2D at 0x14ab5373be0>],\n",
       " 'fliers': [<matplotlib.lines.Line2D at 0x14ab5373f40>],\n",
       " 'means': []}"
      ]
     },
     "execution_count": 35,
     "metadata": {},
     "output_type": "execute_result"
    },
    {
     "data": {
      "image/png": "[encoded data removed]",
      "text/plain": [
       "<Figure size 432x288 with 1 Axes>"
      ]
     },
     "metadata": {
      "needs_background": "light"
     },
     "output_type": "display_data"
    }
   ],
   "source": [
    "#Box plot to find out outlier\n",
    "plt.boxplot(df['Measure X'])"
   ]
  },
  {
   "cell_type": "code",
   "execution_count": null,
   "id": "d38e87f7",
   "metadata": {},
   "outputs": [],
   "source": []
  }
 ],
 "metadata": {
  "kernelspec": {
   "display_name": "Python 3",
   "language": "python",
   "name": "python3"
  },
  "language_info": {
   "codemirror_mode": {
    "name": "ipython",
    "version": 3
   },
   "file_extension": ".py",
   "mimetype": "text/x-python",
   "name": "python",
   "nbconvert_exporter": "python",
   "pygments_lexer": "ipython3",
   "version": "3.8.8"
  }
 },
 "nbformat": 4,
 "nbformat_minor": 5
}
